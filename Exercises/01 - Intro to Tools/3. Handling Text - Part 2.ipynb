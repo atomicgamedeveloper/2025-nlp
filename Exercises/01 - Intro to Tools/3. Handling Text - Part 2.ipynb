{
 "cells": [
  {
   "cell_type": "code",
   "execution_count": 2,
   "metadata": {
    "tags": []
   },
   "outputs": [],
   "source": [
    "import numpy as np\n",
    "import pandas as pd\n",
    "import matplotlib.pyplot as plt\n",
    "%matplotlib inline\n",
    "from sklearn.linear_model import LogisticRegressionCV\n",
    "from sklearn.decomposition import TruncatedSVD\n",
    "from sklearn.feature_extraction.text import TfidfVectorizer\n",
    "from helpers.helper_functions import *"
   ]
  },
  {
   "cell_type": "markdown",
   "metadata": {},
   "source": [
    "# Handling text 2 exercise\n",
    "\n",
    "The Sheldon Cooper we all know and love (OK, some of us might not know him, and some might not love him) from the TV series \"The Big Bang Theory\" has gotten into an argument with Leonard from the same TV show. Sheldon insists that he knows the show better than anyone, and keeps making various claims about the show, which neither of them know how to prove or disprove. The two of them have reached out to you ladies and gentlemen, as data scientists, to help them. You will be given the full script of the series, with information on the episode, the scene, the person saying each dialogue line, and the dialogue lines themselves.\n",
    "\n",
    "Leonard has challenged several of Sheldon's claims about the show, and throughout this exam you will see some of those and you will get to prove or disprove them, but remember: sometimes, we can neither prove a claim, nor disprove it!"
   ]
  },
  {
   "cell_type": "markdown",
   "metadata": {},
   "source": [
    "## Task A: Picking up the shovel\n",
    "\n",
    "**Note: You will use the data you preprocess in this task in all the subsequent ones.**\n",
    "\n",
    "Our friends' argument concerns the entire show. We have given you a file in the `data/` folder that contains the script of every single episode. New episodes are indicated by '>>', new scenes by '>', and the rest of the lines are dialogue lines. Some lines are said by multiple people (for example, lines indicated by 'All' or 'Together'); **you must discard these lines**, for the sake of simplicity. However, you do not need to do it for Q1 in this task -- you'll take care of it when you solve Q2.\n",
    "\n",
    "**Q1**. Your first task is to extract all lines of dialogue in each scene and episode, creating a dataframe where each row has the episode and scene where a dialogue line was said, the character who said it, and the line itself. You do not need to extract the proper name of the episode (e.g. episode 1 can appear as \"Series 01 Episode 01 - Pilot Episode\", and doesn't need to appear as \"Pilot Episode\"). Then, answer the following question: In total, how many scenes are there in each season? We're not asking about unique scenes; the same location appearing in two episodes counts as two scenes. You can use a Pandas dataframe with a season column and a scene count column as the response.\n",
    "\n",
    "**Note: The data refers to seasons as \"series\".**"
   ]
  },
  {
   "cell_type": "code",
   "execution_count": null,
   "metadata": {},
   "outputs": [],
   "source": [
    "# your code goes here\n",
    "import pandas as pd\n",
    "\n",
    "EPISODE_MARK = '>>'\n",
    "SCENE_MARK = '>'\n",
    "\n",
    "with (open('./data/all_scripts.txt', 'r') as f):\n",
    "    script = f.read()\n",
    "#print(script[:40])\n",
    "# Columns: Episode (name), Scene (description), Character, Dialogue line\n",
    "df = pd.DataFrame(columns=['Episode','Scene','Character','Dialogue'])\n",
    "\n",
    "episode = \"\"\n",
    "scene = \"\"\n",
    "character = \"\"\n",
    "dialogue = \"\"\n",
    "for line in script.strip().split('\\n'):\n",
    "    if line[:2] == EPISODE_MARK:\n",
    "        episode = line[2:]\n",
    "        continue\n",
    "    elif line[:1] == SCENE_MARK:\n",
    "        scene = line[1:]\n",
    "        continue\n",
    "    else:\n",
    "        character, dialogue = line.split(\":\", 1)\n",
    "        new_row = pd.DataFrame([episode, scene, character.strip(), dialogue.strip()], columns=df.columns)\n",
    "        df = pd.concat([df, new_row], ignore_index=True)\n",
    "\n",
    "print(df.to_string())"
   ]
  },
  {
   "cell_type": "code",
   "execution_count": null,
   "metadata": {},
   "outputs": [],
   "source": [
    "scene_df = pd.DataFrame(columns=['Series','Scene Count'])\n",
    "\n",
    "SERIES_PREFIX = 'Series 01'\n",
    "\n",
    "scene_count = 0\n",
    "scene = \"\"\n",
    "series = \"\"\n",
    "for _, row in df.iterrows():\n",
    "    if row['Episode'][:len(SERIES_PREFIX)+1] != series:\n",
    "        if series != \"\":\n",
    "            new_row = pd.DataFrame([[series,scene_count]],columns=scene_df.columns)\n",
    "            scene_df = pd.concat([scene_df,new_row],ignore_index=True)\n",
    "        series = row['Episode'][:len(SERIES_PREFIX)+1]\n",
    "        scene_count = 0\n",
    "    if row['Scene'] != scene:\n",
    "        scene_count = scene_count+1\n",
    "        scene = row['Scene']\n",
    "\n",
    "new_row = pd.DataFrame([[series,scene_count]],columns=scene_df.columns)\n",
    "scene_df = pd.concat([scene_df,new_row],ignore_index=True)\n",
    "\n",
    "print(scene_df.to_string())"
   ]
  },
  {
   "cell_type": "markdown",
   "metadata": {},
   "source": [
    "**Q2**. Now, let's define two sets of characters: all the characters, and recurrent characters. Recurrent characters are those who appear in more than one episode. For the subsequent sections, you will need to have a list of recurrent characters. Assume that there are no two _named characters_ (i.e. characters who have actual names and aren't referred to generically as \"little girl\", \"grumpy grandpa\", etc.) with the same name, i.e. there are no two Sheldons, etc. Generate a list of recurrent characters who have more than 90 dialogue lines in total, and then take a look at the list you have. If you've done this correctly, you should have a list of 20 names. However, one of these is clearly not a recurrent character. Manually remove that one, and print out your list of recurrent characters. To remove that character, pay attention to the _named character_ assumption we gave you earlier on. **For all the subsequent questions, you must only keep the dialogue lines said by the recurrent characters in your list.**"
   ]
  },
  {
   "cell_type": "code",
   "execution_count": null,
   "metadata": {},
   "outputs": [],
   "source": [
    "# your code goes here\n",
    "all_characters = {}\n",
    "\n",
    "\"\"\"\n",
    "Sheldon: {\n",
    "    episodes: 200\n",
    "    lines: 300000\n",
    "}\n",
    "\"\"\"\n",
    "\n",
    "episode = \"\"\n",
    "for _, row in df.iterrows():\n",
    "    character = row['Character']\n",
    "    character_is_mentioned_before = (character in all_characters)\n",
    "    if not character_is_mentioned_before:\n",
    "        all_characters[character] = {\"lines\": 1, \"episodes\": [row['Episode']]}\n",
    "    else:\n",
    "        all_characters[character]['lines'] += 1\n",
    "        if row['Episode'] not in all_characters[character]['episodes']:\n",
    "            all_characters[character]['episodes'].append(row['Episode'])\n",
    "\n",
    "recurrent_characters = {k: v for k, v in all_characters.items() if v['lines'] > 90 and len(v['episodes']) > 1}\n",
    "\n",
    "print(f\"Recurrent characters: {len(recurrent_characters)}\")\n",
    "\n",
    "for character in recurrent_characters:\n",
    "    print(f\"{character}:\\n    lines: {recurrent_characters[character]['lines']},\\n    episodes: {len(recurrent_characters[character]['episodes'])}\")\n",
    "\n",
    "# Simplify list and remove 'Man'\n",
    "recurrent_characters = [k for k, _ in recurrent_characters.items()]\n",
    "recurrent_characters.remove('Man')\n",
    "\n",
    "print()\n",
    "print(recurrent_characters, len(recurrent_characters))"
   ]
  },
  {
   "cell_type": "markdown",
   "metadata": {},
   "source": [
    "## Task B: Read the scripts carefully\n",
    "\n",
    "### Part 1: Don't put the shovel down just yet\n",
    "\n",
    "**Q3**. From each dialogue line, replace punctuation marks (listed in the EXCLUDE_CHARS variable provided in `helpers/helper_functions.py`) with whitespaces, and lowercase all the text. **Do not remove any stopwords, leave them be for all the questions in this task.**"
   ]
  },
  {
   "cell_type": "code",
   "execution_count": 6,
   "metadata": {},
   "outputs": [],
   "source": [
    "# your code goes here\n",
    "from helpers.helper_functions import EXCLUDE_CHARS\n",
    "import regex as re\n",
    "\n",
    "pattern = \"[\" + \"\".join(re.escape(c) for c in EXCLUDE_CHARS) + \"]\"\n",
    "\n",
    "df_recurrent = pd.DataFrame(columns=df.columns)\n",
    "\n",
    "for _, row in df.iterrows():\n",
    "    if row['Character'] not in recurrent_characters:\n",
    "        continue\n",
    "    new_row = row.copy()\n",
    "    new_row['Dialogue'] = re.sub(pattern, \" \", row['Dialogue'].lower())\n",
    "    df_recurrent = pd.concat([df_recurrent, pd.DataFrame([new_row])], ignore_index=True)"
   ]
  },
  {
   "cell_type": "code",
   "execution_count": null,
   "metadata": {},
   "outputs": [],
   "source": [
    "print(df_recurrent[:1000].to_string())"
   ]
  },
  {
   "cell_type": "markdown",
   "metadata": {},
   "source": [
    "**Q4**. For each term, calculate its \"corpus frequency\", i.e. its number of occurrences in the entire series. Visualize the distribution of corpus frequency using a histogram. Explain your observations. What are the appropriate x and y scales for this plot?"
   ]
  },
  {
   "cell_type": "code",
   "execution_count": null,
   "metadata": {},
   "outputs": [],
   "source": [
    "# your code goes here\n",
    "from collections import Counter\n",
    "import spacy\n",
    "\n",
    "nlp = spacy.load('en_core_web_sm')\n",
    "nlp.max_length = 3121313 # Length of all dialogue ¯\\_(ツ)_/¯\n",
    "\n",
    "all_dialogue = \" \".join(df['Dialogue'])\n",
    "\n",
    "doc = nlp(all_dialogue)\n",
    "\n",
    "words = [token.text for token in doc if token.is_stop != True and token.is_punct != True]\n",
    "\n",
    "# five most common tokens\n",
    "word_freq = Counter(words)\n",
    "common_words = word_freq.most_common()\n",
    "\n",
    "print(common_words)"
   ]
  },
  {
   "cell_type": "code",
   "execution_count": null,
   "metadata": {},
   "outputs": [],
   "source": [
    "# words 24210 and max freq 4099\n",
    "import math\n",
    "\n",
    "# Extract only the frequencies from common_words\n",
    "word_frequencies = [math.log(freq) for _, freq in common_words]\n",
    "print(word_frequencies)\n",
    "\n",
    "import matplotlib.pyplot as plt\n",
    "plt.hist(word_frequencies,bins=10)\n",
    "plt.xlabel('Word')\n",
    "plt.ylabel('Frequency')\n",
    "plt.show()\n",
    "\n",
    "# ANSWER: Most words are very frequently used"
   ]
  },
  {
   "cell_type": "markdown",
   "metadata": {},
   "source": [
    "### Part 2: Talkativity\n",
    "**Q5**. For each of the recurrent characters, calculate their total number of words uttered across all episodes. Based on this, who seems to be the most talkative character?"
   ]
  },
  {
   "cell_type": "code",
   "execution_count": null,
   "metadata": {},
   "outputs": [],
   "source": [
    "# your code goes here\n",
    "talkativity = {}\n",
    "\n",
    "for _, row in df_recurrent.iterrows():\n",
    "    character = row['Character']\n",
    "    words_spoken = len(row['Dialogue'])\n",
    "    if character not in talkativity.keys():\n",
    "        talkativity[character] = 0\n",
    "    talkativity[character] += words_spoken\n",
    "\n",
    "for character in talkativity:\n",
    "    print(f\"{character} {talkativity[character]}\")\n",
    "\n",
    "# ANSWER: Sheldon by more than double"
   ]
  },
  {
   "cell_type": "markdown",
   "metadata": {},
   "source": [
    "## Task D: The Detective's Hat\n",
    "\n",
    "Sheldon claims that given a dialogue line, he can, with an accuracy of above 70%, say whether it's by himself or by someone else. Leonard contests this claim, since he believes that this claimed accuracy is too high.\n",
    "\n",
    "**Q6**. Divide the set of all dialogue lines into two subsets: the training set, consisting of all the seasons except the last two, and the test set, consisting of the last two seasons."
   ]
  },
  {
   "cell_type": "code",
   "execution_count": null,
   "metadata": {},
   "outputs": [],
   "source": [
    "train_rows = []\n",
    "test_rows = []\n",
    "\n",
    "for _, row in df_recurrent.iterrows():\n",
    "    season = int(row['Episode'][len(SERIES_PREFIX)-1:len(SERIES_PREFIX)+1])\n",
    "    if season < 9:\n",
    "        train_rows.append(row)\n",
    "    else:\n",
    "        test_rows.append(row)\n",
    "\n",
    "training = pd.DataFrame(train_rows, columns=df.columns)\n",
    "testing = pd.DataFrame(test_rows, columns=df.columns)"
   ]
  },
  {
   "cell_type": "code",
   "execution_count": 95,
   "metadata": {},
   "outputs": [
    {
     "name": "stdout",
     "output_type": "stream",
     "text": [
      "Training\n",
      "                                 Episode                         Scene Character                                                                                                                                                                                                                                                                                 Dialogue\n",
      "0   Series 01 Episode 01 – Pilot Episode   A corridor at a sperm bank.   Sheldon  so if a photon is directed through a plane with two slits in it and either slit is observed it will not go through both slits  if it s unobserved it will  however  if it s observed after it s left the plane but before it hits its target  it will not have gone through both slits \n",
      "1   Series 01 Episode 01 – Pilot Episode   A corridor at a sperm bank.   Leonard                                                                                                                                                                                                                                                               agreed  what s your point \n",
      "2   Series 01 Episode 01 – Pilot Episode   A corridor at a sperm bank.   Sheldon                                                                                                                                                                                                                         there s no point  i just think it s a good idea for a tee shirt \n",
      "3   Series 01 Episode 01 – Pilot Episode   A corridor at a sperm bank.   Leonard                                                                                                                                                                                                                                                                               excuse me \n",
      "Testing\n",
      "                                                Episode               Scene Character                                                                                                                                  Dialogue\n",
      "38177   Series 09 Episode 01 – The Matrimonial Momentum   A Wedding Chapel.     Penny                                                                                                        so  what package are you thinking \n",
      "38178   Series 09 Episode 01 – The Matrimonial Momentum   A Wedding Chapel.   Leonard                                     mm  this one comes with music and flowers  oh  they even stream the whole thing live on the internet \n",
      "38179   Series 09 Episode 01 – The Matrimonial Momentum   A Wedding Chapel.     Penny                                                                                                                   why would we want that \n",
      "38180   Series 09 Episode 01 – The Matrimonial Momentum   A Wedding Chapel.   Leonard  ‘cause there s a lot of gorgeous blondes out there who don t believe they can land a short  nearsighted scientist  let s give them hope \n"
     ]
    }
   ],
   "source": [
    "print(\"Training\")\n",
    "print(training[:4].to_string())\n",
    "\n",
    "print(\"Testing\")\n",
    "print(testing[:4].to_string())"
   ]
  },
  {
   "cell_type": "markdown",
   "metadata": {},
   "source": [
    "**Q7**. Find the set of all words in the training set that are only uttered by Sheldon. Is it possible for Sheldon to identify himself only based on these? Use the test set to assess this possibility, and explain your method."
   ]
  },
  {
   "cell_type": "code",
   "execution_count": null,
   "metadata": {
    "tags": []
   },
   "outputs": [],
   "source": [
    "# your code goes here\n"
   ]
  }
 ],
 "metadata": {
  "kernelspec": {
   "display_name": "nlp",
   "language": "python",
   "name": "python3"
  },
  "language_info": {
   "codemirror_mode": {
    "name": "ipython",
    "version": 3
   },
   "file_extension": ".py",
   "mimetype": "text/x-python",
   "name": "python",
   "nbconvert_exporter": "python",
   "pygments_lexer": "ipython3",
   "version": "3.11.13"
  },
  "varInspector": {
   "cols": {
    "lenName": 16,
    "lenType": 16,
    "lenVar": 40
   },
   "kernels_config": {
    "python": {
     "delete_cmd_postfix": "",
     "delete_cmd_prefix": "del ",
     "library": "var_list.py",
     "varRefreshCmd": "print(var_dic_list())"
    },
    "r": {
     "delete_cmd_postfix": ") ",
     "delete_cmd_prefix": "rm(",
     "library": "var_list.r",
     "varRefreshCmd": "cat(var_dic_list()) "
    }
   },
   "types_to_exclude": [
    "module",
    "function",
    "builtin_function_or_method",
    "instance",
    "_Feature"
   ],
   "window_display": false
  }
 },
 "nbformat": 4,
 "nbformat_minor": 4
}
